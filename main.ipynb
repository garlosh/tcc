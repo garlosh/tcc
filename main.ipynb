{
 "cells": [
  {
   "cell_type": "code",
   "execution_count": 2,
   "metadata": {},
   "outputs": [],
   "source": [
    "import pandas as pd\n",
    "from sklearn.feature_extraction.text import TfidfVectorizer\n",
    "from sklearn.model_selection import train_test_split\n",
    "from sklearn.linear_model import LogisticRegression\n",
    "from sklearn.metrics import classification_report, accuracy_score\n",
    "from sklearn.semi_supervised import LabelPropagation\n",
    "from nltk.corpus import stopwords\n",
    "from xgboost import XGBClassifier\n",
    "import string\n",
    "import nltk"
   ]
  },
  {
   "cell_type": "code",
   "execution_count": 3,
   "metadata": {},
   "outputs": [
    {
     "name": "stderr",
     "output_type": "stream",
     "text": [
      "[nltk_data] Downloading package stopwords to\n",
      "[nltk_data]     C:\\Users\\cagol\\AppData\\Roaming\\nltk_data...\n",
      "[nltk_data]   Package stopwords is already up-to-date!\n"
     ]
    }
   ],
   "source": [
    "# Certifique-se de baixar os recursos necessários do NLTK\n",
    "nltk.download('stopwords')\n",
    "\n",
    "# Carregar o CSV\n",
    "df = pd.read_csv('./dados/pre-processed.csv')\n",
    "\n",
    "\n",
    "# Converter os rótulos para valores numéricos\n",
    "df['label'] = df['label'].apply(lambda x: 1 if x == 'fake' else 0)\n",
    "\n",
    "# Função para limpar as manchetes (remoção de pontuação e stopwords)\n",
    "def limpar_texto(texto):\n",
    "    # Remover pontuações\n",
    "    texto = ''.join([char for char in texto if char not in string.punctuation])\n",
    "    # Converter para minúsculas\n",
    "    texto = texto.lower()\n",
    "    # Remover stopwords\n",
    "    stop_words = set(stopwords.words('portuguese'))\n",
    "    texto = ' '.join([word for word in texto.split() if word not in stop_words])\n",
    "    return texto\n",
    "\n",
    "# Aplicar a função de limpeza nas manchetes\n",
    "df['manchete_limpa'] = df['preprocessed_news'].apply(limpar_texto)"
   ]
  },
  {
   "cell_type": "code",
   "execution_count": 4,
   "metadata": {},
   "outputs": [
    {
     "data": {
      "text/plain": [
       "label\n",
       "1    3600\n",
       "0    3600\n",
       "Name: count, dtype: int64"
      ]
     },
     "execution_count": 4,
     "metadata": {},
     "output_type": "execute_result"
    }
   ],
   "source": [
    "df['label'].value_counts()"
   ]
  },
  {
   "cell_type": "code",
   "execution_count": 5,
   "metadata": {},
   "outputs": [],
   "source": [
    "# Inicializar o vetorizador TF-IDF\n",
    "tfidf = TfidfVectorizer()\n",
    "\n",
    "# Aplicar o vetorizador nas manchetes limpas\n",
    "X_tfidf = tfidf.fit_transform(df['manchete_limpa'])"
   ]
  },
  {
   "cell_type": "code",
   "execution_count": 6,
   "metadata": {},
   "outputs": [
    {
     "name": "stdout",
     "output_type": "stream",
     "text": [
      "Acurácia do modelo: 0.9465277777777777\n",
      "\n",
      "Relatório de classificação:\n",
      "              precision    recall  f1-score   support\n",
      "\n",
      "           0       0.96      0.93      0.95       722\n",
      "           1       0.94      0.96      0.95       718\n",
      "\n",
      "    accuracy                           0.95      1440\n",
      "   macro avg       0.95      0.95      0.95      1440\n",
      "weighted avg       0.95      0.95      0.95      1440\n",
      "\n"
     ]
    }
   ],
   "source": [
    "\n",
    "# Separar a variável preditora (X) e a variável resposta (y)\n",
    "X = X_tfidf  # A matriz TF-IDF é a nossa variável preditora\n",
    "y = df['label']  # Coluna 'label' como variável resposta\n",
    "\n",
    "# Dividir o dataset em treino e teste (80% treino, 20% teste)\n",
    "X_train, X_test, y_train, y_test = train_test_split(X, y, test_size=0.2, random_state=42)\n",
    "\n",
    "# Inicializar o modelo de Regressão Logística\n",
    "modelo = LogisticRegression()\n",
    "\n",
    "# Treinar o modelo\n",
    "modelo.fit(X_train, y_train)\n",
    "\n",
    "# Fazer previsões no conjunto de teste\n",
    "y_pred_log = modelo.predict(X_test)\n",
    "\n",
    "# Avaliar o modelo\n",
    "print(\"Acurácia do modelo:\", accuracy_score(y_test, y_pred_log))\n",
    "print(\"\\nRelatório de classificação:\")\n",
    "print(classification_report(y_test, y_pred_log))\n",
    "\n",
    "# (Opcional) Salvar as previsões junto com o conjunto de teste para análise posterior\n",
    "df_teste = pd.DataFrame({\n",
    "    'manchete_original': df['preprocessed_news'].iloc[y_test.index],\n",
    "    'label_real': y_test,\n",
    "    'label_previsto': y_pred_log\n",
    "})"
   ]
  },
  {
   "cell_type": "code",
   "execution_count": 7,
   "metadata": {},
   "outputs": [
    {
     "name": "stdout",
     "output_type": "stream",
     "text": [
      "\n",
      "Acurácia do XGBoost: 0.9527777777777777\n",
      "\n",
      "Relatório de classificação do XGBoost:\n",
      "              precision    recall  f1-score   support\n",
      "\n",
      "           0       0.94      0.97      0.95       722\n",
      "           1       0.96      0.94      0.95       718\n",
      "\n",
      "    accuracy                           0.95      1440\n",
      "   macro avg       0.95      0.95      0.95      1440\n",
      "weighted avg       0.95      0.95      0.95      1440\n",
      "\n",
      "Comparação dos modelos salva em 'comparacao_modelos.csv'.\n"
     ]
    }
   ],
   "source": [
    "# Inicializar e treinar o modelo XGBoost\n",
    "modelo_xgb = XGBClassifier(eval_metric='logloss')\n",
    "modelo_xgb.fit(X_train, y_train)\n",
    "\n",
    "# Fazer previsões e avaliar o modelo XGBoost\n",
    "y_pred_xgb = modelo_xgb.predict(X_test)\n",
    "print(\"\\nAcurácia do XGBoost:\", accuracy_score(y_test, y_pred_xgb))\n",
    "print(\"\\nRelatório de classificação do XGBoost:\")\n",
    "print(classification_report(y_test, y_pred_xgb))\n",
    "# Comparação das previsões e salvar resultados\n",
    "df_comparacao = pd.DataFrame({\n",
    "    'manchete_original': df['manchete_limpa'].iloc[y_test.index],\n",
    "    'label_real': y_test,\n",
    "    'label_pred_log': y_pred_log,\n",
    "    'label_pred_xgb': y_pred_xgb\n",
    "})\n",
    "df_comparacao.to_csv('comparacao_modelos.csv', index=False)\n",
    "print(\"Comparação dos modelos salva em 'comparacao_modelos.csv'.\")"
   ]
  }
 ],
 "metadata": {
  "kernelspec": {
   "display_name": ".venv",
   "language": "python",
   "name": "python3"
  },
  "language_info": {
   "codemirror_mode": {
    "name": "ipython",
    "version": 3
   },
   "file_extension": ".py",
   "mimetype": "text/x-python",
   "name": "python",
   "nbconvert_exporter": "python",
   "pygments_lexer": "ipython3",
   "version": "3.12.7"
  }
 },
 "nbformat": 4,
 "nbformat_minor": 2
}
